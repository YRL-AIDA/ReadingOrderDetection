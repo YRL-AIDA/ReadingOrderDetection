{
 "cells": [
  {
   "cell_type": "code",
   "execution_count": 1,
   "id": "90c98fe3-a378-4616-8876-f3b4c4152d72",
   "metadata": {},
   "outputs": [],
   "source": [
    "\n",
    "from dtype.datasets import *\n",
    "from dtype.sorters.rule_sorter.rule_sorter import RuleSorter\n",
    "from dtype.sorters import *\n",
    "from dtype.metrics import *\n",
    "from utils.drawer import *"
   ]
  },
  {
   "cell_type": "code",
   "execution_count": 2,
   "id": "c59f9e28-9502-40d6-b769-5f989319a0d7",
   "metadata": {},
   "outputs": [
    {
     "data": {
      "text/plain": [
       "{'ARD',\n",
       " 'Argument_sorter',\n",
       " 'BBox',\n",
       " 'BLEU',\n",
       " 'BaseDataset',\n",
       " 'BaseSorter',\n",
       " 'Dict',\n",
       " 'Drawer',\n",
       " 'ExampleDataset',\n",
       " 'FullMatchPrecision',\n",
       " 'In',\n",
       " 'Left2RightTop2BottomImageSegment',\n",
       " 'Out',\n",
       " 'Page',\n",
       " 'PuplayNet',\n",
       " 'RuleSorter',\n",
       " 'TriangularSorter',\n",
       " 'Tuple',\n",
       " 'XYCut',\n",
       " '_',\n",
       " '__',\n",
       " '___',\n",
       " '__builtin__',\n",
       " '__builtins__',\n",
       " '__doc__',\n",
       " '__loader__',\n",
       " '__name__',\n",
       " '__package__',\n",
       " '__spec__',\n",
       " '__vsc_ipynb_file__',\n",
       " '_dh',\n",
       " '_i',\n",
       " '_i1',\n",
       " '_i2',\n",
       " '_ih',\n",
       " '_ii',\n",
       " '_iii',\n",
       " '_oh',\n",
       " 'base_dataset',\n",
       " 'example_dataset',\n",
       " 'exit',\n",
       " 'get_ipython',\n",
       " 'inspect',\n",
       " 'np',\n",
       " 'open',\n",
       " 'plt',\n",
       " 'quit'}"
      ]
     },
     "execution_count": 2,
     "metadata": {},
     "output_type": "execute_result"
    }
   ],
   "source": [
    "import inspect\n",
    "current_names = set(globals().keys())\n",
    "current_names"
   ]
  },
  {
   "cell_type": "markdown",
   "id": "aba1c5bd-161f-410f-a54a-ae08c64de66d",
   "metadata": {},
   "source": [
    "### Подсчет всех метрик для всех комбинаций сортировок и датасетов"
   ]
  },
  {
   "cell_type": "code",
   "execution_count": 3,
   "id": "1d51534e-7e27-47dc-955a-bacf340cc1b8",
   "metadata": {},
   "outputs": [
    {
     "name": "stdout",
     "output_type": "stream",
     "text": [
      "========== XYCUT ==========\n",
      "***** ExampleDataset *****\n",
      "FullMatchPrecision :\t1.0000\n",
      "BLEU :\t2.7500\n",
      "ARD :\t0.0000\n",
      "***** PUPlaynet *****\n",
      "[Узел id:15497, number = 6, Узел id:15498, number = 19] Если не произошло разделения\n",
      "[Узел id:15501, number = 7, Узел id:15502, number = 20] Если не произошло разделения\n",
      "[Узел id:15745, number = 4, Узел id:15746, number = 5] Если не произошло разделения\n",
      "[Узел id:15754, number = 6, Узел id:15755, number = 7] Если не произошло разделения\n",
      "FullMatchPrecision :\t0.9050\n",
      "[Узел id:19597, number = 6, Узел id:19598, number = 19] Если не произошло разделения\n",
      "[Узел id:19601, number = 7, Узел id:19602, number = 20] Если не произошло разделения\n",
      "[Узел id:19845, number = 4, Узел id:19846, number = 5] Если не произошло разделения\n",
      "[Узел id:19854, number = 6, Узел id:19855, number = 7] Если не произошло разделения\n",
      "BLEU :\t5.1150\n"
     ]
    },
    {
     "ename": "KeyboardInterrupt",
     "evalue": "",
     "output_type": "error",
     "traceback": [
      "\u001b[31m---------------------------------------------------------------------------\u001b[39m",
      "\u001b[31mKeyboardInterrupt\u001b[39m                         Traceback (most recent call last)",
      "\u001b[36mCell\u001b[39m\u001b[36m \u001b[39m\u001b[32mIn[3]\u001b[39m\u001b[32m, line 19\u001b[39m\n\u001b[32m     17\u001b[39m \u001b[38;5;28mprint\u001b[39m(\u001b[33m\"\u001b[39m\u001b[33m*\u001b[39m\u001b[33m\"\u001b[39m*\u001b[32m5\u001b[39m, name_dataset, \u001b[33m\"\u001b[39m\u001b[33m*\u001b[39m\u001b[33m\"\u001b[39m*\u001b[32m5\u001b[39m)\n\u001b[32m     18\u001b[39m \u001b[38;5;28;01mfor\u001b[39;00m name_metric, metric \u001b[38;5;129;01min\u001b[39;00m metrics.items():\n\u001b[32m---> \u001b[39m\u001b[32m19\u001b[39m     \u001b[38;5;28mprint\u001b[39m(name_metric, \u001b[33mf\u001b[39m\u001b[33m'\u001b[39m\u001b[33m:\u001b[39m\u001b[38;5;130;01m\\t\u001b[39;00m\u001b[38;5;132;01m{\u001b[39;00m\u001b[43mmetric\u001b[49m\u001b[43m.\u001b[49m\u001b[43mcompute\u001b[49m\u001b[43m(\u001b[49m\u001b[43mdataset\u001b[49m\u001b[43m,\u001b[49m\u001b[38;5;250;43m \u001b[39;49m\u001b[43msorter\u001b[49m\u001b[43m)\u001b[49m\u001b[38;5;132;01m:\u001b[39;00m\u001b[33m.4f\u001b[39m\u001b[38;5;132;01m}\u001b[39;00m\u001b[33m'\u001b[39m)\n",
      "\u001b[36mFile \u001b[39m\u001b[32mc:\\Users\\Михаил\\Desktop\\ReadingOrderDetection\\dtype\\metrics\\base_metric.py:9\u001b[39m, in \u001b[36mBaseMetric.compute\u001b[39m\u001b[34m(self, dataset, sorter)\u001b[39m\n\u001b[32m      8\u001b[39m \u001b[38;5;28;01mdef\u001b[39;00m\u001b[38;5;250m \u001b[39m\u001b[34mcompute\u001b[39m(\u001b[38;5;28mself\u001b[39m, dataset: BaseDataset, sorter: BaseSorter):\n\u001b[32m----> \u001b[39m\u001b[32m9\u001b[39m     data = [(sorter.sort(page), page.true_reading_order) \u001b[38;5;28;01mfor\u001b[39;00m page \u001b[38;5;129;01min\u001b[39;00m \u001b[43mdataset\u001b[49m\u001b[43m.\u001b[49m\u001b[43mpages\u001b[49m]\n\u001b[32m     11\u001b[39m     \u001b[38;5;28;01mreturn\u001b[39;00m \u001b[38;5;28mself\u001b[39m.metric(data)\n",
      "\u001b[36mFile \u001b[39m\u001b[32mc:\\Users\\Михаил\\Desktop\\ReadingOrderDetection\\dtype\\datasets\\base_dataset.py:8\u001b[39m, in \u001b[36mBaseDataset.pages\u001b[39m\u001b[34m(self)\u001b[39m\n\u001b[32m      6\u001b[39m \u001b[38;5;129m@property\u001b[39m\n\u001b[32m      7\u001b[39m \u001b[38;5;28;01mdef\u001b[39;00m\u001b[38;5;250m \u001b[39m\u001b[34mpages\u001b[39m(\u001b[38;5;28mself\u001b[39m) -> \u001b[38;5;28mlist\u001b[39m[Page]:\n\u001b[32m----> \u001b[39m\u001b[32m8\u001b[39m     \u001b[38;5;28;01mreturn\u001b[39;00m \u001b[38;5;28;43mself\u001b[39;49m\u001b[43m.\u001b[49m\u001b[43mget_pages\u001b[49m\u001b[43m(\u001b[49m\u001b[43m)\u001b[49m\n",
      "\u001b[36mFile \u001b[39m\u001b[32mc:\\Users\\Михаил\\Desktop\\ReadingOrderDetection\\dtype\\datasets\\PuplayNet\\PuplayNet.py:19\u001b[39m, in \u001b[36mPuplayNet.get_pages\u001b[39m\u001b[34m(self)\u001b[39m\n\u001b[32m     17\u001b[39m     images = data[\u001b[33m'\u001b[39m\u001b[33mimages\u001b[39m\u001b[33m'\u001b[39m]\n\u001b[32m     18\u001b[39m     image_ids = [im[\u001b[33m'\u001b[39m\u001b[33mid\u001b[39m\u001b[33m'\u001b[39m] \u001b[38;5;28;01mfor\u001b[39;00m im \u001b[38;5;129;01min\u001b[39;00m images]\n\u001b[32m---> \u001b[39m\u001b[32m19\u001b[39m \u001b[38;5;28;01mreturn\u001b[39;00m [\u001b[38;5;28;43mself\u001b[39;49m\u001b[43m.\u001b[49m\u001b[43m__open_page_num\u001b[49m\u001b[43m(\u001b[49m\u001b[43mimage_id\u001b[49m\u001b[43m)\u001b[49m \u001b[38;5;28;01mfor\u001b[39;00m image_id \u001b[38;5;129;01min\u001b[39;00m image_ids]\n",
      "\u001b[36mFile \u001b[39m\u001b[32mc:\\Users\\Михаил\\Desktop\\ReadingOrderDetection\\dtype\\datasets\\PuplayNet\\PuplayNet.py:27\u001b[39m, in \u001b[36mPuplayNet.__open_page_num\u001b[39m\u001b[34m(self, image_id)\u001b[39m\n\u001b[32m     25\u001b[39m reading_order = []\n\u001b[32m     26\u001b[39m i = \u001b[32m0\u001b[39m\n\u001b[32m---> \u001b[39m\u001b[32m27\u001b[39m \u001b[38;5;28;01mfor\u001b[39;00m annotation \u001b[38;5;129;01min\u001b[39;00m \u001b[43mjson\u001b[49m\u001b[43m.\u001b[49m\u001b[43mload\u001b[49m\u001b[43m(\u001b[49m\u001b[43mfile\u001b[49m\u001b[43m)\u001b[49m[\u001b[33m'\u001b[39m\u001b[33mannotations\u001b[39m\u001b[33m'\u001b[39m]:\n\u001b[32m     28\u001b[39m     \u001b[38;5;28;01mif\u001b[39;00m annotation[\u001b[33m'\u001b[39m\u001b[33mimage_id\u001b[39m\u001b[33m'\u001b[39m] == image_id:\n\u001b[32m     29\u001b[39m         xt, yt, w, h = annotation[\u001b[33m'\u001b[39m\u001b[33mbbox\u001b[39m\u001b[33m'\u001b[39m]\n",
      "\u001b[36mFile \u001b[39m\u001b[32m~\\AppData\\Local\\Programs\\Python\\Python312\\Lib\\json\\__init__.py:293\u001b[39m, in \u001b[36mload\u001b[39m\u001b[34m(fp, cls, object_hook, parse_float, parse_int, parse_constant, object_pairs_hook, **kw)\u001b[39m\n\u001b[32m    274\u001b[39m \u001b[38;5;28;01mdef\u001b[39;00m\u001b[38;5;250m \u001b[39m\u001b[34mload\u001b[39m(fp, *, \u001b[38;5;28mcls\u001b[39m=\u001b[38;5;28;01mNone\u001b[39;00m, object_hook=\u001b[38;5;28;01mNone\u001b[39;00m, parse_float=\u001b[38;5;28;01mNone\u001b[39;00m,\n\u001b[32m    275\u001b[39m         parse_int=\u001b[38;5;28;01mNone\u001b[39;00m, parse_constant=\u001b[38;5;28;01mNone\u001b[39;00m, object_pairs_hook=\u001b[38;5;28;01mNone\u001b[39;00m, **kw):\n\u001b[32m    276\u001b[39m \u001b[38;5;250m    \u001b[39m\u001b[33;03m\"\"\"Deserialize ``fp`` (a ``.read()``-supporting file-like object containing\u001b[39;00m\n\u001b[32m    277\u001b[39m \u001b[33;03m    a JSON document) to a Python object.\u001b[39;00m\n\u001b[32m    278\u001b[39m \n\u001b[32m   (...)\u001b[39m\u001b[32m    291\u001b[39m \u001b[33;03m    kwarg; otherwise ``JSONDecoder`` is used.\u001b[39;00m\n\u001b[32m    292\u001b[39m \u001b[33;03m    \"\"\"\u001b[39;00m\n\u001b[32m--> \u001b[39m\u001b[32m293\u001b[39m     \u001b[38;5;28;01mreturn\u001b[39;00m \u001b[43mloads\u001b[49m\u001b[43m(\u001b[49m\u001b[43mfp\u001b[49m\u001b[43m.\u001b[49m\u001b[43mread\u001b[49m\u001b[43m(\u001b[49m\u001b[43m)\u001b[49m\u001b[43m,\u001b[49m\n\u001b[32m    294\u001b[39m \u001b[43m        \u001b[49m\u001b[38;5;28;43mcls\u001b[39;49m\u001b[43m=\u001b[49m\u001b[38;5;28;43mcls\u001b[39;49m\u001b[43m,\u001b[49m\u001b[43m \u001b[49m\u001b[43mobject_hook\u001b[49m\u001b[43m=\u001b[49m\u001b[43mobject_hook\u001b[49m\u001b[43m,\u001b[49m\n\u001b[32m    295\u001b[39m \u001b[43m        \u001b[49m\u001b[43mparse_float\u001b[49m\u001b[43m=\u001b[49m\u001b[43mparse_float\u001b[49m\u001b[43m,\u001b[49m\u001b[43m \u001b[49m\u001b[43mparse_int\u001b[49m\u001b[43m=\u001b[49m\u001b[43mparse_int\u001b[49m\u001b[43m,\u001b[49m\n\u001b[32m    296\u001b[39m \u001b[43m        \u001b[49m\u001b[43mparse_constant\u001b[49m\u001b[43m=\u001b[49m\u001b[43mparse_constant\u001b[49m\u001b[43m,\u001b[49m\u001b[43m \u001b[49m\u001b[43mobject_pairs_hook\u001b[49m\u001b[43m=\u001b[49m\u001b[43mobject_pairs_hook\u001b[49m\u001b[43m,\u001b[49m\u001b[43m \u001b[49m\u001b[43m*\u001b[49m\u001b[43m*\u001b[49m\u001b[43mkw\u001b[49m\u001b[43m)\u001b[49m\n",
      "\u001b[36mFile \u001b[39m\u001b[32m~\\AppData\\Local\\Programs\\Python\\Python312\\Lib\\json\\__init__.py:346\u001b[39m, in \u001b[36mloads\u001b[39m\u001b[34m(s, cls, object_hook, parse_float, parse_int, parse_constant, object_pairs_hook, **kw)\u001b[39m\n\u001b[32m    341\u001b[39m     s = s.decode(detect_encoding(s), \u001b[33m'\u001b[39m\u001b[33msurrogatepass\u001b[39m\u001b[33m'\u001b[39m)\n\u001b[32m    343\u001b[39m \u001b[38;5;28;01mif\u001b[39;00m (\u001b[38;5;28mcls\u001b[39m \u001b[38;5;129;01mis\u001b[39;00m \u001b[38;5;28;01mNone\u001b[39;00m \u001b[38;5;129;01mand\u001b[39;00m object_hook \u001b[38;5;129;01mis\u001b[39;00m \u001b[38;5;28;01mNone\u001b[39;00m \u001b[38;5;129;01mand\u001b[39;00m\n\u001b[32m    344\u001b[39m         parse_int \u001b[38;5;129;01mis\u001b[39;00m \u001b[38;5;28;01mNone\u001b[39;00m \u001b[38;5;129;01mand\u001b[39;00m parse_float \u001b[38;5;129;01mis\u001b[39;00m \u001b[38;5;28;01mNone\u001b[39;00m \u001b[38;5;129;01mand\u001b[39;00m\n\u001b[32m    345\u001b[39m         parse_constant \u001b[38;5;129;01mis\u001b[39;00m \u001b[38;5;28;01mNone\u001b[39;00m \u001b[38;5;129;01mand\u001b[39;00m object_pairs_hook \u001b[38;5;129;01mis\u001b[39;00m \u001b[38;5;28;01mNone\u001b[39;00m \u001b[38;5;129;01mand\u001b[39;00m \u001b[38;5;129;01mnot\u001b[39;00m kw):\n\u001b[32m--> \u001b[39m\u001b[32m346\u001b[39m     \u001b[38;5;28;01mreturn\u001b[39;00m \u001b[43m_default_decoder\u001b[49m\u001b[43m.\u001b[49m\u001b[43mdecode\u001b[49m\u001b[43m(\u001b[49m\u001b[43ms\u001b[49m\u001b[43m)\u001b[49m\n\u001b[32m    347\u001b[39m \u001b[38;5;28;01mif\u001b[39;00m \u001b[38;5;28mcls\u001b[39m \u001b[38;5;129;01mis\u001b[39;00m \u001b[38;5;28;01mNone\u001b[39;00m:\n\u001b[32m    348\u001b[39m     \u001b[38;5;28mcls\u001b[39m = JSONDecoder\n",
      "\u001b[36mFile \u001b[39m\u001b[32m~\\AppData\\Local\\Programs\\Python\\Python312\\Lib\\json\\decoder.py:339\u001b[39m, in \u001b[36mJSONDecoder.decode\u001b[39m\u001b[34m(self, s, _w)\u001b[39m\n\u001b[32m    334\u001b[39m \u001b[38;5;250m\u001b[39m\u001b[33;03m\"\"\"Return the Python representation of ``s`` (a ``str`` instance\u001b[39;00m\n\u001b[32m    335\u001b[39m \u001b[33;03mcontaining a JSON document).\u001b[39;00m\n\u001b[32m    336\u001b[39m \n\u001b[32m    337\u001b[39m \u001b[33;03m\"\"\"\u001b[39;00m\n\u001b[32m    338\u001b[39m obj, end = \u001b[38;5;28mself\u001b[39m.raw_decode(s, idx=_w(s, \u001b[32m0\u001b[39m).end())\n\u001b[32m--> \u001b[39m\u001b[32m339\u001b[39m end = \u001b[43m_w\u001b[49m\u001b[43m(\u001b[49m\u001b[43ms\u001b[49m\u001b[43m,\u001b[49m\u001b[43m \u001b[49m\u001b[43mend\u001b[49m\u001b[43m)\u001b[49m.end()\n\u001b[32m    340\u001b[39m \u001b[38;5;28;01mif\u001b[39;00m end != \u001b[38;5;28mlen\u001b[39m(s):\n\u001b[32m    341\u001b[39m     \u001b[38;5;28;01mraise\u001b[39;00m JSONDecodeError(\u001b[33m\"\u001b[39m\u001b[33mExtra data\u001b[39m\u001b[33m\"\u001b[39m, s, end)\n",
      "\u001b[31mKeyboardInterrupt\u001b[39m: "
     ]
    }
   ],
   "source": [
    "datasets ={ \"ExampleDataset\":ExampleDataset(),\n",
    "           \"PUPlaynet\":PuplayNet(),\n",
    "          }\n",
    "sorters ={ \"XYCUT\": XYCut(),\n",
    "          \"Argument\":Argument_sorter()\n",
    "          }\n",
    "metrics = {\n",
    "    \"FullMatchPrecision\":FullMatchPrecision(),\n",
    "    \"BLEU\": BLEU(),\n",
    "    \"ARD\" : ARD()\n",
    "\n",
    "}\n",
    "\n",
    "for name_sorter, sorter in sorters.items():\n",
    "    print(\"=\"*10, name_sorter, \"=\"*10)\n",
    "    for name_dataset, dataset in datasets.items():\n",
    "        print(\"*\"*5, name_dataset, \"*\"*5)\n",
    "        for name_metric, metric in metrics.items():\n",
    "            print(name_metric, f':\\t{metric.compute(dataset, sorter):.4f}')"
   ]
  },
  {
   "cell_type": "markdown",
   "id": "e9ecd8fd-629f-47ff-bb9b-1980ae26d3c1",
   "metadata": {},
   "source": [
    "### Конкретный пример"
   ]
  },
  {
   "cell_type": "code",
   "execution_count": 8,
   "id": "ef33b801-abbb-4729-af65-1580f42eb83d",
   "metadata": {},
   "outputs": [
    {
     "ename": "KeyError",
     "evalue": "'TriangularSorter'",
     "output_type": "error",
     "traceback": [
      "\u001b[31m---------------------------------------------------------------------------\u001b[39m",
      "\u001b[31mKeyError\u001b[39m                                  Traceback (most recent call last)",
      "\u001b[36mCell\u001b[39m\u001b[36m \u001b[39m\u001b[32mIn[8]\u001b[39m\u001b[32m, line 2\u001b[39m\n\u001b[32m      1\u001b[39m page = datasets[\u001b[33m\"\u001b[39m\u001b[33mExampleDataset\u001b[39m\u001b[33m\"\u001b[39m].pages[\u001b[32m3\u001b[39m]\n\u001b[32m----> \u001b[39m\u001b[32m2\u001b[39m sorter = \u001b[43msorters\u001b[49m\u001b[43m[\u001b[49m\u001b[33;43m\"\u001b[39;49m\u001b[33;43mTriangularSorter\u001b[39;49m\u001b[33;43m\"\u001b[39;49m\u001b[43m]\u001b[49m\n\u001b[32m      4\u001b[39m inds = sorter.sort(page)\n\u001b[32m      5\u001b[39m true_inds = [page.true_reading_order[bbox.id] \u001b[38;5;28;01mfor\u001b[39;00m bbox \u001b[38;5;129;01min\u001b[39;00m page.bboxes]\n",
      "\u001b[31mKeyError\u001b[39m: 'TriangularSorter'"
     ]
    }
   ],
   "source": [
    "page = datasets[\"ExampleDataset\"].pages[3]\n",
    "sorter = sorters[\"TriangularSorter\"]\n",
    "\n",
    "inds = sorter.sort(page)\n",
    "true_inds = [page.true_reading_order[bbox.id] for bbox in page.bboxes]\n",
    "print(\"pred_inds:\", inds)\n",
    "print(\"true_inds:\", true_inds)\n",
    "\n",
    "Drawer.draw_with_arrows(page, pred_read=inds)\n",
    "inds = sorter.sort(page)"
   ]
  },
  {
   "cell_type": "code",
   "execution_count": null,
   "id": "0a6768d6-0dcf-4b13-8a42-5b80e048aefa",
   "metadata": {},
   "outputs": [],
   "source": []
  }
 ],
 "metadata": {
  "kernelspec": {
   "display_name": ".venv",
   "language": "python",
   "name": "python3"
  },
  "language_info": {
   "codemirror_mode": {
    "name": "ipython",
    "version": 3
   },
   "file_extension": ".py",
   "mimetype": "text/x-python",
   "name": "python",
   "nbconvert_exporter": "python",
   "pygments_lexer": "ipython3",
   "version": "3.12.10"
  }
 },
 "nbformat": 4,
 "nbformat_minor": 5
}
