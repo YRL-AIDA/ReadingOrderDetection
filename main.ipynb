{
 "cells": [
  {
   "cell_type": "code",
   "execution_count": 20,
   "id": "90c98fe3-a378-4616-8876-f3b4c4152d72",
   "metadata": {},
   "outputs": [],
   "source": [
    "from dtype.datasets import *\n",
    "from dtype.sorters.rule_sorter.rule_sorter import RuleSorter\n",
    "from dtype.sorters import *\n",
    "from dtype.metrics import *\n",
    "from utils.drawer import *"
   ]
  },
  {
   "cell_type": "code",
   "execution_count": null,
   "id": "c59f9e28-9502-40d6-b769-5f989319a0d7",
   "metadata": {},
   "outputs": [],
   "source": [
    "import inspect\n",
    "current_names = set(globals().keys())\n",
    "current_names"
   ]
  },
  {
   "cell_type": "markdown",
   "id": "aba1c5bd-161f-410f-a54a-ae08c64de66d",
   "metadata": {},
   "source": [
    "### Подсчет всех метрик для всех комбинаций сортировок и датасетов"
   ]
  },
  {
   "cell_type": "code",
   "execution_count": 8,
   "id": "1d51534e-7e27-47dc-955a-bacf340cc1b8",
   "metadata": {},
   "outputs": [
    {
     "ename": "NameError",
     "evalue": "name 'XYCut' is not defined",
     "output_type": "error",
     "traceback": [
      "\u001b[31m---------------------------------------------------------------------------\u001b[39m",
      "\u001b[31mNameError\u001b[39m                                 Traceback (most recent call last)",
      "\u001b[36mCell\u001b[39m\u001b[36m \u001b[39m\u001b[32mIn[8]\u001b[39m\u001b[32m, line 3\u001b[39m\n\u001b[32m      1\u001b[39m datasets ={ \u001b[33m\"\u001b[39m\u001b[33mExampleDataset\u001b[39m\u001b[33m\"\u001b[39m:ExampleDataset(),\n\u001b[32m      2\u001b[39m           }\n\u001b[32m----> \u001b[39m\u001b[32m3\u001b[39m sorters ={ \u001b[33m\"\u001b[39m\u001b[33mXYCUT\u001b[39m\u001b[33m\"\u001b[39m: \u001b[43mXYCut\u001b[49m(),\n\u001b[32m      4\u001b[39m           \u001b[33m\"\u001b[39m\u001b[33mArgument\u001b[39m\u001b[33m\"\u001b[39m:Argument_sorter()\n\u001b[32m      5\u001b[39m           }\n\u001b[32m      6\u001b[39m metrics = {\n\u001b[32m      7\u001b[39m     \u001b[33m\"\u001b[39m\u001b[33mFullMatchPrecision\u001b[39m\u001b[33m\"\u001b[39m:FullMatchPrecision(),\n\u001b[32m      8\u001b[39m     \u001b[33m\"\u001b[39m\u001b[33mBLEU\u001b[39m\u001b[33m\"\u001b[39m: BLEU(),\n\u001b[32m      9\u001b[39m     \u001b[33m\"\u001b[39m\u001b[33mARD\u001b[39m\u001b[33m\"\u001b[39m : ARD()\n\u001b[32m     10\u001b[39m \n\u001b[32m     11\u001b[39m }\n\u001b[32m     13\u001b[39m \u001b[38;5;28;01mfor\u001b[39;00m name_sorter, sorter \u001b[38;5;129;01min\u001b[39;00m sorters.items():\n",
      "\u001b[31mNameError\u001b[39m: name 'XYCut' is not defined"
     ]
    }
   ],
   "source": [
    "datasets ={ \"ExampleDataset\":ExampleDataset(),\n",
    "          }\n",
    "sorters ={ \"XYCUT\": XYCut(),\n",
    "          \"Argument\":Argument_sorter()\n",
    "          }\n",
    "metrics = {\n",
    "    \"FullMatchPrecision\":FullMatchPrecision(),\n",
    "    \"BLEU\": BLEU(),\n",
    "    \"ARD\" : ARD()\n",
    "\n",
    "}\n",
    "\n",
    "for name_sorter, sorter in sorters.items():\n",
    "    print(\"=\"*10, name_sorter, \"=\"*10)\n",
    "    for name_dataset, dataset in datasets.items():\n",
    "        print(\"*\"*5, name_dataset, \"*\"*5)\n",
    "        for name_metric, metric in metrics.items():\n",
    "            print(name_metric, f':\\t{metric.compute(dataset, sorter):.4f}')"
   ]
  },
  {
   "cell_type": "markdown",
   "id": "e9ecd8fd-629f-47ff-bb9b-1980ae26d3c1",
   "metadata": {},
   "source": [
    "### Конкретный пример"
   ]
  },
  {
   "cell_type": "code",
   "execution_count": 3,
   "id": "ef33b801-abbb-4729-af65-1580f42eb83d",
   "metadata": {},
   "outputs": [
    {
     "name": "stdout",
     "output_type": "stream",
     "text": [
      "pred_inds: [0, 1, 2, 3, 4, 5]\n",
      "true_inds: [0, 1, 2, 3, 4, 5]\n"
     ]
    },
    {
     "name": "stderr",
     "output_type": "stream",
     "text": [
      "Warning: Ignoring XDG_SESSION_TYPE=wayland on Gnome. Use QT_QPA_PLATFORM=wayland to run on Wayland anyway.\n"
     ]
    }
   ],
   "source": [
    "page = datasets[\"ExampleDataset\"].pages[3]\n",
    "sorter = sorters[\"TriangularSorter\"]\n",
    "\n",
    "inds = sorter.sort(page)\n",
    "true_inds = [page.true_reading_order[bbox.id] for bbox in page.bboxes]\n",
    "print(\"pred_inds:\", inds)\n",
    "print(\"true_inds:\", true_inds)\n",
    "\n",
    "Drawer.draw_with_arrows(page, pred_read=inds)\n",
    "inds = sorter.sort(page)"
   ]
  },
  {
   "cell_type": "code",
   "execution_count": null,
   "id": "0a6768d6-0dcf-4b13-8a42-5b80e048aefa",
   "metadata": {},
   "outputs": [],
   "source": []
  }
 ],
 "metadata": {
  "kernelspec": {
   "display_name": ".venv",
   "language": "python",
   "name": "python3"
  },
  "language_info": {
   "codemirror_mode": {
    "name": "ipython",
    "version": 3
   },
   "file_extension": ".py",
   "mimetype": "text/x-python",
   "name": "python",
   "nbconvert_exporter": "python",
   "pygments_lexer": "ipython3",
   "version": "3.13.5"
  }
 },
 "nbformat": 4,
 "nbformat_minor": 5
}
