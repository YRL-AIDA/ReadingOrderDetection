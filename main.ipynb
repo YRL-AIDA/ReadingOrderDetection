{
 "cells": [
  {
   "cell_type": "code",
   "execution_count": 1,
   "id": "90c98fe3-a378-4616-8876-f3b4c4152d72",
   "metadata": {},
   "outputs": [],
   "source": [
    "from dtype.datasets import *\n",
    "from dtype.sorters import *\n",
    "from dtype.metrics import *"
   ]
  },
  {
   "cell_type": "code",
   "execution_count": null,
   "id": "c59f9e28-9502-40d6-b769-5f989319a0d7",
   "metadata": {},
   "outputs": [],
   "source": []
  },
  {
   "cell_type": "markdown",
   "id": "aba1c5bd-161f-410f-a54a-ae08c64de66d",
   "metadata": {},
   "source": [
    "### Подсчет всех метрик для всех комбинаций сортировок и датасетов"
   ]
  },
  {
   "cell_type": "code",
   "execution_count": 2,
   "id": "1d51534e-7e27-47dc-955a-bacf340cc1b8",
   "metadata": {},
   "outputs": [
    {
     "name": "stdout",
     "output_type": "stream",
     "text": [
      "========== TriangularSorter ==========\n",
      "***** ExampleDataset *****\n",
      "FullMatchPrecision :\t0.2500\n"
     ]
    }
   ],
   "source": [
    "datasets ={ \"ExampleDataset\":ExampleDataset(),\n",
    "          }\n",
    "sorters ={ \"TriangularSorter\":TriangularSorter(),\n",
    "          }\n",
    "metrics = {\n",
    "    \"FullMatchPrecision\":FullMatchPrecision(),\n",
    "}\n",
    "\n",
    "for name_sorter, sorter in sorters.items():\n",
    "    print(\"=\"*10, name_sorter, \"=\"*10)\n",
    "    for name_dataset, dataset in datasets.items():\n",
    "        print(\"*\"*5, name_dataset, \"*\"*5)\n",
    "        for name_metric, metric in metrics.items():\n",
    "            print(name_metric, f':\\t{metric.compute(dataset, sorter):.4f}')"
   ]
  },
  {
   "cell_type": "markdown",
   "id": "e9ecd8fd-629f-47ff-bb9b-1980ae26d3c1",
   "metadata": {},
   "source": [
    "### Конкретный пример"
   ]
  },
  {
   "cell_type": "code",
   "execution_count": 3,
   "id": "ef33b801-abbb-4729-af65-1580f42eb83d",
   "metadata": {},
   "outputs": [
    {
     "name": "stdout",
     "output_type": "stream",
     "text": [
      "pred_inds: [4, 3, 1, 5, 2, 0, 6, 7]\n",
      "true_inds: [4, 0, 5, 2, 1, 3, 6, 7]\n"
     ]
    }
   ],
   "source": [
    "page = datasets[\"ExampleDataset\"].pages[2]\n",
    "sorter = sorters[\"TriangularSorter\"]\n",
    "\n",
    "inds = sorter.sort(page)\n",
    "true_inds = [page.true_reading_order[bbox.id] for bbox in page.bboxes]\n",
    "print(\"pred_inds:\", inds)\n",
    "print(\"true_inds:\", true_inds)"
   ]
  }
 ],
 "metadata": {
  "kernelspec": {
   "display_name": "Python 3 (ipykernel)",
   "language": "python",
   "name": "python3"
  },
  "language_info": {
   "codemirror_mode": {
    "name": "ipython",
    "version": 3
   },
   "file_extension": ".py",
   "mimetype": "text/x-python",
   "name": "python",
   "nbconvert_exporter": "python",
   "pygments_lexer": "ipython3",
   "version": "3.12.3"
  }
 },
 "nbformat": 4,
 "nbformat_minor": 5
}
