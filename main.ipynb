{
 "cells": [
  {
   "cell_type": "code",
   "execution_count": 3,
   "id": "90c98fe3-a378-4616-8876-f3b4c4152d72",
   "metadata": {},
   "outputs": [],
   "source": [
    "\n",
    "from dtype.datasets import *\n",
    "from dtype.sorters.rule_sorter.rule_sorter import RuleSorter\n",
    "from dtype.sorters import *\n",
    "from dtype.metrics import *\n",
    "from utils.drawer import *"
   ]
  },
  {
   "cell_type": "code",
   "execution_count": null,
   "id": "c59f9e28-9502-40d6-b769-5f989319a0d7",
   "metadata": {},
   "outputs": [],
   "source": [
    "import inspect\n",
    "current_names = set(globals().keys())\n",
    "current_names"
   ]
  },
  {
   "cell_type": "markdown",
   "id": "aba1c5bd-161f-410f-a54a-ae08c64de66d",
   "metadata": {},
   "source": [
    "### Подсчет всех метрик для всех комбинаций сортировок и датасетов"
   ]
  },
  {
   "cell_type": "code",
   "execution_count": null,
   "id": "1d51534e-7e27-47dc-955a-bacf340cc1b8",
   "metadata": {},
   "outputs": [
    {
     "name": "stdout",
     "output_type": "stream",
     "text": [
      "========== XYCUT ==========\n",
      "***** ExampleDataset *****\n",
      "FullMatchPrecision :\t1.0000\n",
      "BLEU :\t5.5000\n",
      "ARD :\t0.0000\n",
      "========== Argument ==========\n",
      "***** ExampleDataset *****\n",
      "FullMatchPrecision :\t1.0000\n",
      "BLEU :\t5.5000\n",
      "ARD :\t0.0000\n"
     ]
    }
   ],
   "source": [
    "datasets ={ \"ExampleDataset\":ExampleDataset(),\n",
    "           \"PUPlaynet\":PuplayNet(),\n",
    "          }\n",
    "sorters ={ \"XYCUT\": XYCut(),\n",
    "          \"Argument\":Argument_sorter()\n",
    "          }\n",
    "metrics = {\n",
    "    \"FullMatchPrecision\":FullMatchPrecision(),\n",
    "    \"BLEU\": BLEU(),\n",
    "    \"ARD\" : ARD()\n",
    "\n",
    "}\n",
    "\n",
    "for name_sorter, sorter in sorters.items():\n",
    "    print(\"=\"*10, name_sorter, \"=\"*10)\n",
    "    for name_dataset, dataset in datasets.items():\n",
    "        print(\"*\"*5, name_dataset, \"*\"*5)\n",
    "        for name_metric, metric in metrics.items():\n",
    "            print(name_metric, f':\\t{metric.compute(dataset, sorter):.4f}')"
   ]
  },
  {
   "cell_type": "markdown",
   "id": "e9ecd8fd-629f-47ff-bb9b-1980ae26d3c1",
   "metadata": {},
   "source": [
    "### Конкретный пример"
   ]
  },
  {
   "cell_type": "code",
   "execution_count": 8,
   "id": "ef33b801-abbb-4729-af65-1580f42eb83d",
   "metadata": {},
   "outputs": [
    {
     "ename": "KeyError",
     "evalue": "'TriangularSorter'",
     "output_type": "error",
     "traceback": [
      "\u001b[31m---------------------------------------------------------------------------\u001b[39m",
      "\u001b[31mKeyError\u001b[39m                                  Traceback (most recent call last)",
      "\u001b[36mCell\u001b[39m\u001b[36m \u001b[39m\u001b[32mIn[8]\u001b[39m\u001b[32m, line 2\u001b[39m\n\u001b[32m      1\u001b[39m page = datasets[\u001b[33m\"\u001b[39m\u001b[33mExampleDataset\u001b[39m\u001b[33m\"\u001b[39m].pages[\u001b[32m3\u001b[39m]\n\u001b[32m----> \u001b[39m\u001b[32m2\u001b[39m sorter = \u001b[43msorters\u001b[49m\u001b[43m[\u001b[49m\u001b[33;43m\"\u001b[39;49m\u001b[33;43mTriangularSorter\u001b[39;49m\u001b[33;43m\"\u001b[39;49m\u001b[43m]\u001b[49m\n\u001b[32m      4\u001b[39m inds = sorter.sort(page)\n\u001b[32m      5\u001b[39m true_inds = [page.true_reading_order[bbox.id] \u001b[38;5;28;01mfor\u001b[39;00m bbox \u001b[38;5;129;01min\u001b[39;00m page.bboxes]\n",
      "\u001b[31mKeyError\u001b[39m: 'TriangularSorter'"
     ]
    }
   ],
   "source": [
    "page = datasets[\"ExampleDataset\"].pages[3]\n",
    "sorter = sorters[\"TriangularSorter\"]\n",
    "\n",
    "inds = sorter.sort(page)\n",
    "true_inds = [page.true_reading_order[bbox.id] for bbox in page.bboxes]\n",
    "print(\"pred_inds:\", inds)\n",
    "print(\"true_inds:\", true_inds)\n",
    "\n",
    "Drawer.draw_with_arrows(page, pred_read=inds)\n",
    "inds = sorter.sort(page)"
   ]
  },
  {
   "cell_type": "code",
   "execution_count": null,
   "id": "0a6768d6-0dcf-4b13-8a42-5b80e048aefa",
   "metadata": {},
   "outputs": [],
   "source": []
  }
 ],
 "metadata": {
  "kernelspec": {
   "display_name": ".venv",
   "language": "python",
   "name": "python3"
  },
  "language_info": {
   "codemirror_mode": {
    "name": "ipython",
    "version": 3
   },
   "file_extension": ".py",
   "mimetype": "text/x-python",
   "name": "python",
   "nbconvert_exporter": "python",
   "pygments_lexer": "ipython3",
   "version": "3.12.10"
  }
 },
 "nbformat": 4,
 "nbformat_minor": 5
}
