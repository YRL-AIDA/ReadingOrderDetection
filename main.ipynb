{
 "cells": [
  {
   "cell_type": "code",
   "execution_count": 1,
   "id": "90c98fe3-a378-4616-8876-f3b4c4152d72",
   "metadata": {},
   "outputs": [],
   "source": [
    "from dtype.datasets import *\n",
    "from dtype.sorters.rule_sorter.rule_sorter import RuleSorter\n",
    "from dtype.sorters import *\n",
    "from dtype.metrics import *\n",
    "from utils.drawer import *"
   ]
  },
  {
   "cell_type": "code",
   "execution_count": null,
   "id": "c59f9e28-9502-40d6-b769-5f989319a0d7",
   "metadata": {},
   "outputs": [],
   "source": []
  },
  {
   "cell_type": "markdown",
   "id": "aba1c5bd-161f-410f-a54a-ae08c64de66d",
   "metadata": {},
   "source": [
    "### Подсчет всех метрик для всех комбинаций сортировок и датасетов"
   ]
  },
  {
   "cell_type": "code",
   "execution_count": 2,
   "id": "1d51534e-7e27-47dc-955a-bacf340cc1b8",
   "metadata": {},
   "outputs": [
    {
     "name": "stdout",
     "output_type": "stream",
     "text": [
      "========== TriangularSorter ==========\n",
      "***** ExampleDataset *****\n",
      "FullMatchPrecision :\t0.2500\n",
      "========== Rule_sorter ==========\n",
      "***** ExampleDataset *****\n"
     ]
    },
    {
     "ename": "TypeError",
     "evalue": "'bool' object is not callable",
     "output_type": "error",
     "traceback": [
      "\u001b[31m---------------------------------------------------------------------------\u001b[39m",
      "\u001b[31mTypeError\u001b[39m                                 Traceback (most recent call last)",
      "\u001b[36mCell\u001b[39m\u001b[36m \u001b[39m\u001b[32mIn[2]\u001b[39m\u001b[32m, line 15\u001b[39m\n\u001b[32m     13\u001b[39m \u001b[38;5;28mprint\u001b[39m(\u001b[33m\"\u001b[39m\u001b[33m*\u001b[39m\u001b[33m\"\u001b[39m*\u001b[32m5\u001b[39m, name_dataset, \u001b[33m\"\u001b[39m\u001b[33m*\u001b[39m\u001b[33m\"\u001b[39m*\u001b[32m5\u001b[39m)\n\u001b[32m     14\u001b[39m \u001b[38;5;28;01mfor\u001b[39;00m name_metric, metric \u001b[38;5;129;01min\u001b[39;00m metrics.items():\n\u001b[32m---> \u001b[39m\u001b[32m15\u001b[39m     \u001b[38;5;28mprint\u001b[39m(name_metric, \u001b[33mf\u001b[39m\u001b[33m'\u001b[39m\u001b[33m:\u001b[39m\u001b[38;5;130;01m\\t\u001b[39;00m\u001b[38;5;132;01m{\u001b[39;00m\u001b[43mmetric\u001b[49m\u001b[43m.\u001b[49m\u001b[43mcompute\u001b[49m\u001b[43m(\u001b[49m\u001b[43mdataset\u001b[49m\u001b[43m,\u001b[49m\u001b[38;5;250;43m \u001b[39;49m\u001b[43msorter\u001b[49m\u001b[43m)\u001b[49m\u001b[38;5;132;01m:\u001b[39;00m\u001b[33m.4f\u001b[39m\u001b[38;5;132;01m}\u001b[39;00m\u001b[33m'\u001b[39m)\n",
      "\u001b[36mFile \u001b[39m\u001b[32mc:\\Users\\User\\Desktop\\ReadingOrderDetection\\dtype\\metrics\\base_metric.py:11\u001b[39m, in \u001b[36mBaseMetric.compute\u001b[39m\u001b[34m(self, dataset, sorter)\u001b[39m\n\u001b[32m      9\u001b[39m \u001b[38;5;28;01mfor\u001b[39;00m page \u001b[38;5;129;01min\u001b[39;00m dataset.pages:\n\u001b[32m     10\u001b[39m     bboxes = page.bboxes\n\u001b[32m---> \u001b[39m\u001b[32m11\u001b[39m     inds = \u001b[43msorter\u001b[49m\u001b[43m.\u001b[49m\u001b[43msort\u001b[49m\u001b[43m(\u001b[49m\u001b[43mpage\u001b[49m\u001b[43m)\u001b[49m\n\u001b[32m     12\u001b[39m     true_inds = [page.true_reading_order[bbox.id] \u001b[38;5;28;01mfor\u001b[39;00m bbox \u001b[38;5;129;01min\u001b[39;00m bboxes]\n\u001b[32m     13\u001b[39m     data.append((inds, true_inds))\n",
      "\u001b[36mFile \u001b[39m\u001b[32mc:\\Users\\User\\Desktop\\ReadingOrderDetection\\dtype\\sorters\\rule_sorter\\rule_sorter.py:10\u001b[39m, in \u001b[36mRuleSorter.sort\u001b[39m\u001b[34m(self, page)\u001b[39m\n\u001b[32m      9\u001b[39m \u001b[38;5;28;01mdef\u001b[39;00m\u001b[38;5;250m \u001b[39m\u001b[34msort\u001b[39m(\u001b[38;5;28mself\u001b[39m, page: Page):\n\u001b[32m---> \u001b[39m\u001b[32m10\u001b[39m     \u001b[38;5;28;01mreturn\u001b[39;00m \u001b[38;5;28;43mself\u001b[39;49m\u001b[43m.\u001b[49m\u001b[43m__sort_bboxes_using_rules\u001b[49m\u001b[43m(\u001b[49m\u001b[43mpage\u001b[49m\u001b[43m.\u001b[49m\u001b[43mbboxes\u001b[49m\u001b[43m)\u001b[49m\n",
      "\u001b[36mFile \u001b[39m\u001b[32mc:\\Users\\User\\Desktop\\ReadingOrderDetection\\dtype\\sorters\\rule_sorter\\rule_sorter.py:21\u001b[39m, in \u001b[36mRuleSorter.__sort_bboxes_using_rules\u001b[39m\u001b[34m(self, segs_)\u001b[39m\n\u001b[32m     19\u001b[39m \u001b[38;5;28;01mfor\u001b[39;00m i \u001b[38;5;129;01min\u001b[39;00m \u001b[38;5;28mrange\u001b[39m(\u001b[38;5;28mlen\u001b[39m(segs)):\n\u001b[32m     20\u001b[39m     \u001b[38;5;28;01mfor\u001b[39;00m j \u001b[38;5;129;01min\u001b[39;00m \u001b[38;5;28mrange\u001b[39m(i, \u001b[38;5;28mlen\u001b[39m(segs)):\n\u001b[32m---> \u001b[39m\u001b[32m21\u001b[39m         \u001b[38;5;28;01mif\u001b[39;00m \u001b[38;5;28;43mself\u001b[39;49m\u001b[43m.\u001b[49m\u001b[43m__rule_first\u001b[49m\u001b[43m(\u001b[49m\u001b[43msegs\u001b[49m\u001b[43m[\u001b[49m\u001b[43mi\u001b[49m\u001b[43m]\u001b[49m\u001b[43m,\u001b[49m\u001b[43m \u001b[49m\u001b[43msegs\u001b[49m\u001b[43m[\u001b[49m\u001b[43mj\u001b[49m\u001b[43m]\u001b[49m\u001b[43m)\u001b[49m \u001b[38;5;129;01mor\u001b[39;00m \u001b[38;5;28mself\u001b[39m.__rule_second(segs[i], segs[j], segs):\n\u001b[32m     22\u001b[39m             segs[i], segs[j] = segs[j], segs[i]\n\u001b[32m     24\u001b[39m \u001b[38;5;28;01mreturn\u001b[39;00m  [seg.index \u001b[38;5;28;01mfor\u001b[39;00m seg \u001b[38;5;129;01min\u001b[39;00m segs]\n",
      "\u001b[36mFile \u001b[39m\u001b[32mc:\\Users\\User\\Desktop\\ReadingOrderDetection\\dtype\\sorters\\rule_sorter\\rule_sorter.py:41\u001b[39m, in \u001b[36mRuleSorter.__rule_first\u001b[39m\u001b[34m(self, a, b)\u001b[39m\n\u001b[32m     40\u001b[39m \u001b[38;5;28;01mdef\u001b[39;00m\u001b[38;5;250m \u001b[39m\u001b[34m__rule_first\u001b[39m(\u001b[38;5;28mself\u001b[39m, a:BBox, b:BBox) -> \u001b[38;5;28mbool\u001b[39m:\n\u001b[32m---> \u001b[39m\u001b[32m41\u001b[39m     \u001b[38;5;28;01mif\u001b[39;00m \u001b[38;5;28;43mself\u001b[39;49m\u001b[43m.\u001b[49m\u001b[43m__overlaps\u001b[49m\u001b[43m(\u001b[49m\u001b[43ma\u001b[49m\u001b[43m=\u001b[49m\u001b[43ma\u001b[49m\u001b[43m,\u001b[49m\u001b[43m \u001b[49m\u001b[43mb\u001b[49m\u001b[43m=\u001b[49m\u001b[43mb\u001b[49m\u001b[43m)\u001b[49m \u001b[38;5;129;01mand\u001b[39;00m a.y_bottom_right < b.y_top_left:\n\u001b[32m     42\u001b[39m         \u001b[38;5;28;01mreturn\u001b[39;00m \u001b[38;5;28;01mTrue\u001b[39;00m\n\u001b[32m     43\u001b[39m     \u001b[38;5;28;01mreturn\u001b[39;00m \u001b[38;5;28;01mFalse\u001b[39;00m\n",
      "\u001b[36mFile \u001b[39m\u001b[32mc:\\Users\\User\\Desktop\\ReadingOrderDetection\\dtype\\sorters\\rule_sorter\\rule_sorter.py:48\u001b[39m, in \u001b[36mRuleSorter.__overlaps\u001b[39m\u001b[34m(self, a, b)\u001b[39m\n\u001b[32m     46\u001b[39m \u001b[38;5;28;01mdef\u001b[39;00m\u001b[38;5;250m \u001b[39m\u001b[34m__overlaps\u001b[39m(\u001b[38;5;28mself\u001b[39m, a:BBox, b:BBox) -> \u001b[38;5;28mbool\u001b[39m:\n\u001b[32m     47\u001b[39m     \u001b[38;5;28;01mif\u001b[39;00m (a.x_top_left > b.x_top_left \u001b[38;5;129;01mand\u001b[39;00m a.x_top_left < b.x_bottom_right) \u001b[38;5;129;01mor\u001b[39;00m \\\n\u001b[32m---> \u001b[39m\u001b[32m48\u001b[39m         \u001b[43m(\u001b[49m\u001b[43ma\u001b[49m\u001b[43m.\u001b[49m\u001b[43mx_bottom_right\u001b[49m\u001b[43m \u001b[49m\u001b[43m<\u001b[49m\u001b[43m \u001b[49m\u001b[43mb\u001b[49m\u001b[43m.\u001b[49m\u001b[43mx_bottom_right\u001b[49m\u001b[43m \u001b[49m\u001b[38;5;129;43;01mand\u001b[39;49;00m\u001b[43m \u001b[49m\u001b[43ma\u001b[49m\u001b[43m.\u001b[49m\u001b[43mx_bottom_right\u001b[49m\u001b[43m \u001b[49m\u001b[43m>\u001b[49m\u001b[43m \u001b[49m\u001b[43mb\u001b[49m\u001b[43m.\u001b[49m\u001b[43mx_top_left\u001b[49m\u001b[43m)\u001b[49m\u001b[43m \u001b[49m\u001b[43m\\\u001b[49m\n\u001b[32m     49\u001b[39m \u001b[43m        \u001b[49m\u001b[43m(\u001b[49m\u001b[43mb\u001b[49m\u001b[43m.\u001b[49m\u001b[43mx_top_left\u001b[49m\u001b[43m \u001b[49m\u001b[43m>\u001b[49m\u001b[43m \u001b[49m\u001b[43ma\u001b[49m\u001b[43m.\u001b[49m\u001b[43mx_top_left\u001b[49m\u001b[43m \u001b[49m\u001b[38;5;129;43;01mand\u001b[39;49;00m\u001b[43m \u001b[49m\u001b[43mb\u001b[49m\u001b[43m.\u001b[49m\u001b[43mx_top_left\u001b[49m\u001b[43m \u001b[49m\u001b[43m<\u001b[49m\u001b[43m \u001b[49m\u001b[43ma\u001b[49m\u001b[43m.\u001b[49m\u001b[43mx_bottom_right\u001b[49m\u001b[43m)\u001b[49m \\\n\u001b[32m     50\u001b[39m         (b.x_bottom_right < a.x_bottom_right \u001b[38;5;129;01mand\u001b[39;00m b.x_bottom_right > a.x_top_left):\n\u001b[32m     51\u001b[39m         \u001b[38;5;28;01mreturn\u001b[39;00m \u001b[38;5;28;01mTrue\u001b[39;00m\n\u001b[32m     52\u001b[39m     \u001b[38;5;28;01mreturn\u001b[39;00m \u001b[38;5;28;01mFalse\u001b[39;00m\n",
      "\u001b[31mTypeError\u001b[39m: 'bool' object is not callable"
     ]
    }
   ],
   "source": [
    "datasets ={ \"ExampleDataset\":ExampleDataset(),\n",
    "          }\n",
    "sorters ={ \"TriangularSorter\":TriangularSorter(),\n",
    "          \"Rule_sorter\" : RuleSorter(),\n",
    "          }\n",
    "metrics = {\n",
    "    \"FullMatchPrecision\":FullMatchPrecision(),\n",
    "}\n",
    "\n",
    "for name_sorter, sorter in sorters.items():\n",
    "    print(\"=\"*10, name_sorter, \"=\"*10)\n",
    "    for name_dataset, dataset in datasets.items():\n",
    "        print(\"*\"*5, name_dataset, \"*\"*5)\n",
    "        for name_metric, metric in metrics.items():\n",
    "            print(name_metric, f':\\t{metric.compute(dataset, sorter):.4f}')"
   ]
  },
  {
   "cell_type": "markdown",
   "id": "e9ecd8fd-629f-47ff-bb9b-1980ae26d3c1",
   "metadata": {},
   "source": [
    "### Конкретный пример"
   ]
  },
  {
   "cell_type": "code",
   "execution_count": null,
   "id": "ef33b801-abbb-4729-af65-1580f42eb83d",
   "metadata": {},
   "outputs": [
    {
     "name": "stderr",
     "output_type": "stream",
     "text": [
      "Clipping input data to the valid range for imshow with RGB data ([0..1] for floats or [0..255] for integers). Got range [0.0..225.0].\n"
     ]
    },
    {
     "data": {
      "image/png": "[encoded data removed]",
      "text/plain": [
       "<Figure size 640x480 with 1 Axes>"
      ]
     },
     "metadata": {},
     "output_type": "display_data"
    },
    {
     "ename": "TypeError",
     "evalue": "'bool' object is not callable",
     "output_type": "error",
     "traceback": [
      "\u001b[31m---------------------------------------------------------------------------\u001b[39m",
      "\u001b[31mTypeError\u001b[39m                                 Traceback (most recent call last)",
      "\u001b[36mCell\u001b[39m\u001b[36m \u001b[39m\u001b[32mIn[4]\u001b[39m\u001b[32m, line 5\u001b[39m\n\u001b[32m      2\u001b[39m sorter = sorters[\u001b[33m\"\u001b[39m\u001b[33mRule_sorter\u001b[39m\u001b[33m\"\u001b[39m]\n\u001b[32m      3\u001b[39m Drawer.draw_bbox(page.bboxes, \u001b[38;5;28mlist\u001b[39m(\u001b[38;5;28mmap\u001b[39m(\u001b[38;5;28mstr\u001b[39m, [\u001b[32m1\u001b[39m, \u001b[32m2\u001b[39m])))\n\u001b[32m----> \u001b[39m\u001b[32m5\u001b[39m inds = \u001b[43msorter\u001b[49m\u001b[43m.\u001b[49m\u001b[43msort\u001b[49m\u001b[43m(\u001b[49m\u001b[43mpage\u001b[49m\u001b[43m)\u001b[49m\n\u001b[32m      6\u001b[39m true_inds = [page.true_reading_order[bbox.id] \u001b[38;5;28;01mfor\u001b[39;00m bbox \u001b[38;5;129;01min\u001b[39;00m page.bboxes]\n\u001b[32m      7\u001b[39m \u001b[38;5;28mprint\u001b[39m(\u001b[33m\"\u001b[39m\u001b[33mpred_inds:\u001b[39m\u001b[33m\"\u001b[39m, inds)\n",
      "\u001b[36mFile \u001b[39m\u001b[32mc:\\Users\\User\\Desktop\\ReadingOrderDetection\\dtype\\sorters\\rule_sorter\\rule_sorter.py:10\u001b[39m, in \u001b[36mRuleSorter.sort\u001b[39m\u001b[34m(self, page)\u001b[39m\n\u001b[32m      9\u001b[39m \u001b[38;5;28;01mdef\u001b[39;00m\u001b[38;5;250m \u001b[39m\u001b[34msort\u001b[39m(\u001b[38;5;28mself\u001b[39m, page: Page):\n\u001b[32m---> \u001b[39m\u001b[32m10\u001b[39m     \u001b[38;5;28;01mreturn\u001b[39;00m \u001b[38;5;28;43mself\u001b[39;49m\u001b[43m.\u001b[49m\u001b[43m__sort_bboxes_using_rules\u001b[49m\u001b[43m(\u001b[49m\u001b[43mpage\u001b[49m\u001b[43m.\u001b[49m\u001b[43mbboxes\u001b[49m\u001b[43m)\u001b[49m\n",
      "\u001b[36mFile \u001b[39m\u001b[32mc:\\Users\\User\\Desktop\\ReadingOrderDetection\\dtype\\sorters\\rule_sorter\\rule_sorter.py:21\u001b[39m, in \u001b[36mRuleSorter.__sort_bboxes_using_rules\u001b[39m\u001b[34m(self, segs_)\u001b[39m\n\u001b[32m     19\u001b[39m \u001b[38;5;28;01mfor\u001b[39;00m i \u001b[38;5;129;01min\u001b[39;00m \u001b[38;5;28mrange\u001b[39m(\u001b[38;5;28mlen\u001b[39m(segs)):\n\u001b[32m     20\u001b[39m     \u001b[38;5;28;01mfor\u001b[39;00m j \u001b[38;5;129;01min\u001b[39;00m \u001b[38;5;28mrange\u001b[39m(i, \u001b[38;5;28mlen\u001b[39m(segs)):\n\u001b[32m---> \u001b[39m\u001b[32m21\u001b[39m         \u001b[38;5;28;01mif\u001b[39;00m \u001b[38;5;28;43mself\u001b[39;49m\u001b[43m.\u001b[49m\u001b[43m__rule_first\u001b[49m\u001b[43m(\u001b[49m\u001b[43msegs\u001b[49m\u001b[43m[\u001b[49m\u001b[43mi\u001b[49m\u001b[43m]\u001b[49m\u001b[43m,\u001b[49m\u001b[43m \u001b[49m\u001b[43msegs\u001b[49m\u001b[43m[\u001b[49m\u001b[43mj\u001b[49m\u001b[43m]\u001b[49m\u001b[43m)\u001b[49m \u001b[38;5;129;01mor\u001b[39;00m \u001b[38;5;28mself\u001b[39m.__rule_second(segs[i], segs[j], segs):\n\u001b[32m     22\u001b[39m             segs[i], segs[j] = segs[j], segs[i]\n\u001b[32m     24\u001b[39m \u001b[38;5;28;01mreturn\u001b[39;00m  [seg.index \u001b[38;5;28;01mfor\u001b[39;00m seg \u001b[38;5;129;01min\u001b[39;00m segs]\n",
      "\u001b[36mFile \u001b[39m\u001b[32mc:\\Users\\User\\Desktop\\ReadingOrderDetection\\dtype\\sorters\\rule_sorter\\rule_sorter.py:41\u001b[39m, in \u001b[36mRuleSorter.__rule_first\u001b[39m\u001b[34m(self, a, b)\u001b[39m\n\u001b[32m     40\u001b[39m \u001b[38;5;28;01mdef\u001b[39;00m\u001b[38;5;250m \u001b[39m\u001b[34m__rule_first\u001b[39m(\u001b[38;5;28mself\u001b[39m, a:BBox, b:BBox) -> \u001b[38;5;28mbool\u001b[39m:\n\u001b[32m---> \u001b[39m\u001b[32m41\u001b[39m     \u001b[38;5;28;01mif\u001b[39;00m \u001b[38;5;28;43mself\u001b[39;49m\u001b[43m.\u001b[49m\u001b[43m__overlaps\u001b[49m\u001b[43m(\u001b[49m\u001b[43ma\u001b[49m\u001b[43m=\u001b[49m\u001b[43ma\u001b[49m\u001b[43m,\u001b[49m\u001b[43m \u001b[49m\u001b[43mb\u001b[49m\u001b[43m=\u001b[49m\u001b[43mb\u001b[49m\u001b[43m)\u001b[49m \u001b[38;5;129;01mand\u001b[39;00m (a.y_bottom_right < b.y_top_left):\n\u001b[32m     42\u001b[39m         \u001b[38;5;28;01mreturn\u001b[39;00m \u001b[38;5;28;01mTrue\u001b[39;00m\n\u001b[32m     43\u001b[39m     \u001b[38;5;28;01mreturn\u001b[39;00m \u001b[38;5;28;01mFalse\u001b[39;00m\n",
      "\u001b[36mFile \u001b[39m\u001b[32mc:\\Users\\User\\Desktop\\ReadingOrderDetection\\dtype\\sorters\\rule_sorter\\rule_sorter.py:48\u001b[39m, in \u001b[36mRuleSorter.__overlaps\u001b[39m\u001b[34m(self, a, b)\u001b[39m\n\u001b[32m     46\u001b[39m \u001b[38;5;28;01mdef\u001b[39;00m\u001b[38;5;250m \u001b[39m\u001b[34m__overlaps\u001b[39m(\u001b[38;5;28mself\u001b[39m, a:BBox, b:BBox) -> \u001b[38;5;28mbool\u001b[39m:\n\u001b[32m     47\u001b[39m     \u001b[38;5;28;01mif\u001b[39;00m (a.x_top_left > b.x_top_left \u001b[38;5;129;01mand\u001b[39;00m a.x_top_left < b.x_bottom_right) \u001b[38;5;129;01mor\u001b[39;00m \\\n\u001b[32m---> \u001b[39m\u001b[32m48\u001b[39m         \u001b[43m(\u001b[49m\u001b[43ma\u001b[49m\u001b[43m.\u001b[49m\u001b[43mx_bottom_right\u001b[49m\u001b[43m \u001b[49m\u001b[43m<\u001b[49m\u001b[43m \u001b[49m\u001b[43mb\u001b[49m\u001b[43m.\u001b[49m\u001b[43mx_bottom_right\u001b[49m\u001b[43m \u001b[49m\u001b[38;5;129;43;01mand\u001b[39;49;00m\u001b[43m \u001b[49m\u001b[43ma\u001b[49m\u001b[43m.\u001b[49m\u001b[43mx_bottom_right\u001b[49m\u001b[43m \u001b[49m\u001b[43m>\u001b[49m\u001b[43m \u001b[49m\u001b[43mb\u001b[49m\u001b[43m.\u001b[49m\u001b[43mx_top_left\u001b[49m\u001b[43m)\u001b[49m\u001b[43m \u001b[49m\u001b[43m\\\u001b[49m\n\u001b[32m     49\u001b[39m \u001b[43m        \u001b[49m\u001b[43m(\u001b[49m\u001b[43mb\u001b[49m\u001b[43m.\u001b[49m\u001b[43mx_top_left\u001b[49m\u001b[43m \u001b[49m\u001b[43m>\u001b[49m\u001b[43m \u001b[49m\u001b[43ma\u001b[49m\u001b[43m.\u001b[49m\u001b[43mx_top_left\u001b[49m\u001b[43m \u001b[49m\u001b[38;5;129;43;01mand\u001b[39;49;00m\u001b[43m \u001b[49m\u001b[43mb\u001b[49m\u001b[43m.\u001b[49m\u001b[43mx_top_left\u001b[49m\u001b[43m \u001b[49m\u001b[43m<\u001b[49m\u001b[43m \u001b[49m\u001b[43ma\u001b[49m\u001b[43m.\u001b[49m\u001b[43mx_bottom_right\u001b[49m\u001b[43m)\u001b[49m \\\n\u001b[32m     50\u001b[39m         (b.x_bottom_right < a.x_bottom_right \u001b[38;5;129;01mand\u001b[39;00m b.x_bottom_right > a.x_top_left):\n\u001b[32m     51\u001b[39m         \u001b[38;5;28;01mreturn\u001b[39;00m \u001b[38;5;28;01mTrue\u001b[39;00m\n\u001b[32m     52\u001b[39m     \u001b[38;5;28;01mreturn\u001b[39;00m \u001b[38;5;28;01mFalse\u001b[39;00m\n",
      "\u001b[31mTypeError\u001b[39m: 'bool' object is not callable"
     ]
    }
   ],
   "source": [
    "page = datasets[\"ExampleDataset\"].pages[1]\n",
    "sorter = sorters[\"Rule_sorter\"]\n",
    "Drawer.draw_bbox(page.bboxes, list(map(str, [1, 2])))\n",
    "\n",
    "inds = sorter.sort(page)\n",
    "true_inds = [page.true_reading_order[bbox.id] for bbox in page.bboxes]\n",
    "print(\"pred_inds:\", inds)\n",
    "print(\"true_inds:\", true_inds)"
   ]
  }
 ],
 "metadata": {
  "kernelspec": {
   "display_name": "Python 3",
   "language": "python",
   "name": "python3"
  },
  "language_info": {
   "codemirror_mode": {
    "name": "ipython",
    "version": 3
   },
   "file_extension": ".py",
   "mimetype": "text/x-python",
   "name": "python",
   "nbconvert_exporter": "python",
   "pygments_lexer": "ipython3",
   "version": "3.13.2"
  }
 },
 "nbformat": 4,
 "nbformat_minor": 5
}
